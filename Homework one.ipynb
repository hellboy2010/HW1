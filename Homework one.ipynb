{
 "cells": [
  {
   "cell_type": "markdown",
   "metadata": {},
   "source": [
    "# Graph\n",
    "\n",
    "![test](Drawing2.png)"
   ]
  },
  {
   "cell_type": "markdown",
   "metadata": {},
   "source": [
    "# In the first Coding we entered the causes and effects and you can test the result"
   ]
  },
  {
   "cell_type": "code",
   "execution_count": 7,
   "metadata": {},
   "outputs": [
    {
     "name": "stdout",
     "output_type": "stream",
     "text": [
      "\n",
      "\n",
      "CREATING THE DECISION TABLE\n",
      "\n",
      "\n",
      "That was 9 causes:\n",
      "  1: if C1 are the non-working days\n",
      "  2: if C2 are the non-working days\n",
      "  3: If C3 are the non-working days\n",
      "  4: if C4 are the non-working days\n",
      "  5: if C5 are the non-working days\n",
      "  6: if C6 are the non-working days\n",
      "  7: if C7 is true\n",
      "  8: if C8 is true\n",
      "  9: if C9 is true\n",
      "\n",
      "\n",
      "USING THE DECISION TABLE(Answer y / n. blank is considered as n)\n",
      "\n",
      "if C1 are the non-working days? : y\n",
      "if C2 are the non-working days? : \n",
      "If C3 are the non-working days? : \n",
      "if C4 are the non-working days? : \n",
      "if C5 are the non-working days? : \n",
      "if C6 are the non-working days? : \n",
      "if C7 is true? : \n",
      "if C8 is true? : y\n",
      "if C9 is true? : \n",
      "Your Non-working days are Sunday and Monday hence: \n",
      "its regular week\n"
     ]
    }
   ],
   "source": [
    "def dt_user(dt, default=['Invalid!']):\n",
    "    conditions = dt\n",
    "    print(\"\\n\\nUSING THE DECISION TABLE(Answer y / n. blank is considered as n)\\n\")\n",
    "    rule = tuple(int('y' == input(\"%s? : \" % c)) for c in conditions)\n",
    "    days_selected = []\n",
    "    for i in range(len(rule[0:5])):\n",
    "        if rule[i] == 1:\n",
    "            days_off(i)\n",
    "            days_selected.append(days_off(i))\n",
    "            \n",
    "            \n",
    "    str1 = ' '.join(str(e) for e in days_selected)        \n",
    "    print(\"Your Non-working days are \"+ str1 + \" hence: \") \n",
    "    \n",
    "    rule\n",
    "    if rule[0] == 1 and (rule[6] ==1 or rule[8]==1) and (rule[1] ==0 and rule[2] ==0 and rule[3] ==0 and rule[4] ==0 and rule[5] ==0):\n",
    "        print(\"the preceding day will be holiday\")\n",
    "    elif rule[1] == 1 and (rule[6] == 1 or rule [8] == 1) and (rule[0]==0 and rule[2] ==0 and rule[3] ==0 and rule[4] ==0 and rule[5] ==0):\n",
    "        print(\"the succeeding day will be holiday\")\n",
    "    elif (rule[2] == 1 ^ rule[5] == 1) and (rule[6] == 1 or rule[7] == 1 or rule[8] == 1) and (rule[0] ==0 and rule[1] ==0 and rule[3] ==0 and rule[4] ==0):\n",
    "        print(\"its regular week\")\n",
    "    elif (rule[3] == 1 and rule[7] == 1) and (rule[0] ==0 and rule[1] ==0 and rule[2] ==0 and rule[4] ==0 and rule[5] ==0 and rule[6] ==0 and rule[8] ==0):\n",
    "        print(\"the preceding day will be holiday\")\n",
    "    elif rule[4] == 1 and rule[7] == 1 and (rule[0] ==0 and rule[1] ==0 and rule[2] ==0 and rule[3] ==0 and rule[5] ==0 and rule[6] ==0 and rule[8] ==0):\n",
    "        print(\"the succeeding day will be holiday\")\n",
    "    elif (rule[0] == 1 ^ rule[1] == 1) and rule[7] == 1 and (rule[2] ==0 and rule[3] ==0 and rule[4] ==0 and rule[5] ==0 and rule[6] ==0 and rule[8] ==0):\n",
    "        print(\"its regular week\")\n",
    "    elif (rule[3] == 1 ^ rule[4] == 1) and (rule[6]==1 or rule[8] == 1) and (rule[0] ==0 and rule[1] ==0 and rule[2] ==0 and rule[5] ==0 and rule[7] ==0):\n",
    "        print(\"its regular week\")\n",
    "    else:\n",
    "        print(\"Wrong\")\n",
    "    \n",
    " \n",
    "\n",
    "def dt_creator():\n",
    "    print(\"\\n\\nCREATING THE DECISION TABLE\\n\")\n",
    "    #conditions = input(\"Input conditions, in order, separated by commas: \")\n",
    "    conditions = \"if C1 are the non-working days,if C2 are the non-working days,If C3 are the non-working days,if C4 are the non-working days,if C5 are the non-working days,if C6 are the non-working days, if C7 is true, if C8 is true, if C9 is true\"\n",
    "    \n",
    "    conditions = [c.strip() for c in conditions.split(',')]\n",
    "    print( (\"\\nThat was %s causes:\\n  \" % len(conditions))\n",
    "           + '\\n  '.join(\"%i: %s\" % x for x in enumerate(conditions, 1)) )\n",
    "    return conditions\n",
    "\n",
    "def days_off(argument):\n",
    "    switcher = {\n",
    "        \n",
    "        0: \"Sunday and Monday\",\n",
    "        1: \"Monday and Tuesday\",\n",
    "        2: \"Tuesday and Wednesday\",\n",
    "        3: \"Wednesday and Thursday\",\n",
    "        4: \"Thursday and Friday\",\n",
    "        5: \"Friday and Sunday\",\n",
    "    }\n",
    "    return (switcher.get(argument, \"Invalid day\"))\n",
    "\n",
    "\n",
    "if __name__ == '__main__':\n",
    "    dt = dt_creator()\n",
    "    dt_user(dt)"
   ]
  },
  {
   "cell_type": "markdown",
   "metadata": {},
   "source": [
    "# In the second code you enter your causes seperated by comma, and then enter your effects and conditions seperated by comma"
   ]
  },
  {
   "cell_type": "code",
   "execution_count": 8,
   "metadata": {},
   "outputs": [
    {
     "name": "stdout",
     "output_type": "stream",
     "text": [
      "\n",
      "\n",
      "CREATING THE DECISION TABLE\n",
      "\n",
      "Input conditions, in order, separated by commas: if C1 are the non-working days, if C2 are the non-working days, if C3 is the non-working days\n",
      "\n",
      "That was 3 conditions:\n",
      "  1: if C1 are the non-working days\n",
      "  2: if C2 are the non-working days\n",
      "  3: if C3 is the non-working days\n",
      "\n",
      "Input an action, a semicolon, then a list of tuples of rules that trigger it. End with a blank line\n",
      "1: the preceding day will be holiday;[(0, 1, 0), (0, 0, 1)]\n",
      "2: the succeeding day will be holiday;[(1, 1, 0), (0, 1, 1)]\n",
      "3: regular week;[(1, 1, 1), (1, 0, 0)]\n",
      "4: \n",
      "\n",
      "\n",
      "USING THE DECISION TABLE\n",
      "\n",
      "if C1 are the non-working days? (Answer y if statement is true or n): y\n",
      "if C2 are the non-working days? (Answer y if statement is true or n): y\n",
      "if C3 is the non-working days? (Answer y if statement is true or n): \n",
      "Try this:\n",
      "  the succeeding day will be holiday\n"
     ]
    }
   ],
   "source": [
    "'''\n",
    "Create a Decision table then use it\n",
    "'''\n",
    " \n",
    "def dt_creator():\n",
    "    print(\"\\n\\nCREATING THE DECISION TABLE\\n\")\n",
    "    conditions = input(\"Input conditions, in order, separated by commas: \")\n",
    "    conditions = [c.strip() for c in conditions.split(',')]\n",
    "    print( (\"\\nThat was %s conditions:\\n  \" % len(conditions))\n",
    "           + '\\n  '.join(\"%i: %s\" % x for x in enumerate(conditions, 1)) )\n",
    "    print(\"\\nInput an action, a semicolon, then a list of tuples of rules that trigger it. End with a blank line\")\n",
    "    action2rules, action = [], ' '\n",
    "    while action:\n",
    "        action = input(\"%i: \" % (len(action2rules) + 1)).strip()\n",
    "        if action:\n",
    "            name, _, rules = [x.strip() for x in action.partition(';')]\n",
    "            rules = eval(rules)\n",
    "            assert all(len(rule) == len(conditions) for rule in rules), \\\n",
    "                   \"The number of conditions in a rule to trigger this action is wrong\" \n",
    "            action2rules.append((name, rules))\n",
    "    actions = [x[0] for x in action2rules]\n",
    "    # Map condition to actions\n",
    "    rule2actions = dict((y,[]) for y in set(sum((x[1] for x in action2rules), [])))\n",
    "    for action, rules in action2rules:\n",
    "        for r in rules:\n",
    "            rule2actions[r].append( action )\n",
    "    return conditions, rule2actions\n",
    " \n",
    "def dt_user(dt, default=['Pray!']):\n",
    "    conditions, rule2actions = dt\n",
    "    print(\"\\n\\nUSING THE DECISION TABLE\\n\")\n",
    "    rule = tuple(int('y' == input(\"%s? (Answer y if statement is true or n): \" % c)) for c in conditions)\n",
    "    print(\"Try this:\\n  \" + '\\n  '.join(rule2actions.get(rule, default)))\n",
    " \n",
    "if __name__ == '__main__':\n",
    "    dt = dt_creator()\n",
    "    dt_user(dt)"
   ]
  },
  {
   "cell_type": "code",
   "execution_count": null,
   "metadata": {},
   "outputs": [],
   "source": [
    "\n",
    "\n"
   ]
  }
 ],
 "metadata": {
  "kernelspec": {
   "display_name": "Python 3",
   "language": "python",
   "name": "python3"
  },
  "language_info": {
   "codemirror_mode": {
    "name": "ipython",
    "version": 3
   },
   "file_extension": ".py",
   "mimetype": "text/x-python",
   "name": "python",
   "nbconvert_exporter": "python",
   "pygments_lexer": "ipython3",
   "version": "3.6.12"
  }
 },
 "nbformat": 4,
 "nbformat_minor": 4
}
